{
 "cells": [
  {
   "attachments": {},
   "cell_type": "markdown",
   "metadata": {},
   "source": [
    "### deviation / 標準偏差"
   ]
  },
  {
   "cell_type": "code",
   "execution_count": 3,
   "metadata": {},
   "outputs": [
    {
     "name": "stdout",
     "output_type": "stream",
     "text": [
      "[-19.400000000000006, -20.400000000000006, 35.599999999999994, -18.400000000000006, 22.599999999999994]\n"
     ]
    }
   ],
   "source": [
    "# リスト\n",
    "numbers = [49, 48, 104, 50, 91]\n",
    "\n",
    "# 平均値を計算\n",
    "mean = sum(numbers) / len(numbers)\n",
    "\n",
    "# 各要素から平均値を引いて偏差を計算\n",
    "deviations = [x - mean for x in numbers]\n",
    "\n",
    "print(deviations)\n"
   ]
  },
  {
   "attachments": {},
   "cell_type": "markdown",
   "metadata": {},
   "source": [
    "### Variance / 分散\n",
    "\n",
    "統計学や確率論において、データセット内の値が平均からどれだけばらついているかを示す尺度です。分散はデータのばらつき度を測定するために使用され、データの散らばり具合を表現します。分散が大きいほどデータが平均から離れて広がっており、分散が小さいほどデータが平均に近いことを示します\n",
    "\n",
    "$$\n",
    "\\text{分散} (\\sigma^2) = \\frac{1}{N} \\sum_{i=1}^{N} (x_i - \\mu)^2 \n",
    "$$\n"
   ]
  },
  {
   "cell_type": "code",
   "execution_count": 34,
   "metadata": {},
   "outputs": [
    {
     "name": "stdout",
     "output_type": "stream",
     "text": [
      "20.2\n",
      "[27.039999999999992, 4.839999999999997, 0.039999999999999716, 7.840000000000004, 23.040000000000006]\n",
      "分散: 12.559999999999999\n"
     ]
    }
   ],
   "source": [
    "# データセット\n",
    "data = [15, 18, 20, 23, 25]\n",
    "\n",
    "# 平均の計算\n",
    "mean = sum(data) / len(data)\n",
    "print(mean)\n",
    "\n",
    "# 各データポイントと平均の差の二乗を計算し、合計する\n",
    "squared_differences = [(x - mean) ** 2 for x in data]\n",
    "print(squared_differences)\n",
    "\n",
    "# 分散の計算\n",
    "variance = sum(squared_differences) / len(data)\n",
    "\n",
    "# 結果を表示\n",
    "print(\"分散:\", variance)\n"
   ]
  },
  {
   "attachments": {},
   "cell_type": "markdown",
   "metadata": {},
   "source": [
    "### Frequency / 度数\n",
    "\n",
    "「度数（Frequency）」は、データセット内の特定の値または範囲が出現する回数を表す統計的な尺度です。度数は、データセット内の異なるカテゴリや値の分布を理解し、要約するのに役立ちます。度数分布表は、度数を示す表であり、特定の値または範囲の頻度を示します。\n"
   ]
  },
  {
   "cell_type": "code",
   "execution_count": 31,
   "metadata": {},
   "outputs": [
    {
     "name": "stdout",
     "output_type": "stream",
     "text": [
      "値   |   度数\n",
      "-------------\n",
      "3    |   3\n",
      "2    |   3\n",
      "1    |   2\n",
      "4    |   1\n",
      "5    |   1\n"
     ]
    }
   ],
   "source": [
    "# サンプルデータ\n",
    "data = [3, 2, 1, 2, 3, 4, 1, 5, 3, 2]\n",
    "\n",
    "# データの度数を計算\n",
    "frequency_dict = {}  # 値をキーとし、度数を値とする辞書を初期化\n",
    "\n",
    "for value in data:\n",
    "    if value in frequency_dict:\n",
    "        frequency_dict[value] += 1\n",
    "    else:\n",
    "        frequency_dict[value] = 1\n",
    "\n",
    "# 度数分布表の表示\n",
    "print(\"値   |   度数\")\n",
    "print(\"-------------\")\n",
    "for value, frequency in frequency_dict.items():\n",
    "    print(f\"{value}    |   {frequency}\")"
   ]
  },
  {
   "attachments": {},
   "cell_type": "markdown",
   "metadata": {},
   "source": [
    "### sample mean/標本平均\n",
    "\n",
    "標本平均とは、母集団から抽出した一部の集団（標本）の平均値のことです。 標本平均を利用すれば、標本の代表値や標準偏差、分散を求めることができます。"
   ]
  },
  {
   "cell_type": "code",
   "execution_count": 1,
   "metadata": {},
   "outputs": [
    {
     "name": "stdout",
     "output_type": "stream",
     "text": [
      "標本平均: 30.0\n"
     ]
    }
   ],
   "source": [
    "data = [10, 20, 30, 40, 50]\n",
    "\n",
    "# 標本平均を計算\n",
    "sample_mean = sum(data) / len(data)\n",
    "\n",
    "print(\"標本平均:\", sample_mean)"
   ]
  },
  {
   "attachments": {},
   "cell_type": "markdown",
   "metadata": {},
   "source": [
    "### Confidence Interval / 平均区間\n",
    "\n",
    "信頼度95%の平均区間（Confidence Interval at 95% Confidence Level）は、統計学において、標本データから計算される平均値の推定に対する信頼性を示すものです。この区間は、標本平均を中心にして、真の母集団平均が含まれる可能性を示すもので、通常、下限と上限の2つの値で表されます。\n",
    "\n",
    "信頼度95%の平均区間を計算する際には、標本平均、標準誤差（または標準偏差）、サンプルサイズなどの情報が必要です。一般的な方法の一つは、Zスコアを用いて計算することです。Zスコアは、正規分布の標準正規分布表を使用して、信頼度に応じたZ値を求めることができます。"
   ]
  },
  {
   "cell_type": "code",
   "execution_count": 9,
   "metadata": {},
   "outputs": [
    {
     "name": "stdout",
     "output_type": "stream",
     "text": [
      "信頼度95%の平均区間: (45.183784192612194, 64.8162158073878)\n"
     ]
    }
   ],
   "source": [
    "import scipy.stats as stats\n",
    "\n",
    "# サンプルデータ、標本平均、標準誤差、サンプルサイズを用意する\n",
    "data = [45, 50, 55, 60, 65]\n",
    "sample_mean = sum(data) / len(data)\n",
    "std_deviation = stats.sem(data)  # 標準誤差\n",
    "sample_size = len(data)\n",
    "\n",
    "# 信頼度95%の平均区間を計算\n",
    "confidence_interval = stats.t.interval(0.95, df=sample_size-1, loc=sample_mean, scale=std_deviation)\n",
    "\n",
    "print(\"信頼度95%の平均区間:\", confidence_interval)"
   ]
  },
  {
   "attachments": {},
   "cell_type": "markdown",
   "metadata": {},
   "source": [
    "Zスコア（Z-score）は、統計学で使用される標準化されたスコアです。Zスコアは、あるデータポイントが平均からどれだけ標準偏差の単位数（標準偏差の何倍）だけ離れているかを示す指標です。Zスコアを計算することにより、異なるデータセットを比較したり、正規分布に基づいた統計的な推論を行ったりする際に便利です。\n",
    "\n",
    "Zスコアの計算式は以下の通りです：\n",
    "\n",
    "\\[Z = \\frac{X - \\mu}{\\sigma}\\]\n",
    "\n",
    "ここで、各変数の意味は次のとおりです：\n",
    "\n",
    "- \\(Z\\)：Zスコア\n",
    "- \\(X\\)：特定のデータポイントの値\n",
    "- \\(\\mu\\)：母集団の平均\n",
    "- \\(\\sigma\\)：母集団の標準偏差\n",
    "\n",
    "Zスコアを計算することにより、データポイントが平均からどれだけ離れているか、または標準偏差の何倍離れているかを数値化することができます。正規分布の場合、Zスコアを用いると、特定の値が分布内でどの位置にあるかを理解し、統計的な推論や比較を行うのに役立ちます。\n",
    "\n",
    "Zスコアは、標準化されたデータを比較する、外れ値を検出する、統計的な仮説検定を行うなど、さまざまな統計的なタスクに使用されます。また、Zスコアは正規分布以外の分布にも拡張できることがありますが、その場合は分布のパラメータを考慮に入れる必要があります。"
   ]
  },
  {
   "cell_type": "code",
   "execution_count": 13,
   "metadata": {},
   "outputs": [
    {
     "name": "stdout",
     "output_type": "stream",
     "text": [
      "Zスコア: 1.4\n"
     ]
    }
   ],
   "source": [
    "X = 77  # データポイントの値\n",
    "mu = 70  # 母集団の平均\n",
    "sigma = 5  # 母集団の標準偏差\n",
    "\n",
    "# Zスコアを計算\n",
    "z_score = (X - mu) / sigma\n",
    "\n",
    "# 結果を表示\n",
    "print(\"Zスコア:\", z_score)"
   ]
  },
  {
   "attachments": {},
   "cell_type": "markdown",
   "metadata": {},
   "source": [
    "#### t-test / t検定\n",
    "\n",
    "統計学において2つのグループ（サンプル）の平均値が統計的に有意に異なるかどうかを判定するための仮説検定手法の一つです。具体的には、2つのサンプルの平均値と分散を比較して、差異が統計的に有意かどうかを評価します。t検定は、2つの独立したサンプルを比較する「独立2群t検定」と、同じサンプルの前後で平均値の変化を検定する「対応2群t検定」の2つの主要なバリエーションがあります。"
   ]
  },
  {
   "cell_type": "code",
   "execution_count": 20,
   "metadata": {},
   "outputs": [
    {
     "name": "stdout",
     "output_type": "stream",
     "text": [
      "t統計量: 2.3124139952957594\n",
      "p値: 0.04950218962719467\n"
     ]
    }
   ],
   "source": [
    "import scipy.stats as stats\n",
    "\n",
    "sample1 = [72, 75, 78, 80, 82]  # サンプル1\n",
    "sample2 = [65, 68, 71, 74, 77]  # サンプル2\n",
    "\n",
    "# t検定を実行\n",
    "t_statistic, p_value = stats.ttest_ind(sample1, sample2)\n",
    "\n",
    "# 結果を表示\n",
    "print(\"t統計量:\", t_statistic)\n",
    "print(\"p値:\", p_value)\n"
   ]
  },
  {
   "cell_type": "code",
   "execution_count": 26,
   "metadata": {},
   "outputs": [
    {
     "name": "stdout",
     "output_type": "stream",
     "text": [
      "t統計量: -0.3162277660168381\n",
      "p値: 0.767643915238903\n"
     ]
    }
   ],
   "source": [
    "sample1 = [1,2,3]  # サンプル1\n",
    "sample2 = [1,2,4]  # サンプル2\n",
    "\n",
    "# t検定を実行\n",
    "t_statistic, p_value = stats.ttest_ind(sample1, sample2)\n",
    "\n",
    "# 結果を表示\n",
    "print(\"t統計量:\", t_statistic)\n",
    "print(\"p値:\", p_value)"
   ]
  },
  {
   "cell_type": "code",
   "execution_count": 28,
   "metadata": {},
   "outputs": [
    {
     "name": "stdout",
     "output_type": "stream",
     "text": [
      "t統計量: 2.3124139952957594\n",
      "p値: 0.04950218962719455\n",
      "帰無仮説を棄却します。\n"
     ]
    }
   ],
   "source": [
    "sample1 = [72, 75, 78, 80, 82]  # サンプル1\n",
    "sample2 = [65, 68, 71, 74, 77]  # サンプル2\n",
    "\n",
    "# サンプルの平均値\n",
    "mean1 = sum(sample1) / len(sample1)\n",
    "mean2 = sum(sample2) / len(sample2)\n",
    "\n",
    "# サンプルの分散\n",
    "variance1 = sum((x - mean1) ** 2 for x in sample1) / (len(sample1) - 1)\n",
    "variance2 = sum((x - mean2) ** 2 for x in sample2) / (len(sample2) - 1)\n",
    "\n",
    "# t統計量の計算\n",
    "n1 = len(sample1)\n",
    "n2 = len(sample2)\n",
    "\n",
    "t_statistic = (mean1 - mean2) / ((variance1 / n1 + variance2 / n2) ** 0.5)\n",
    "\n",
    "# 自由度\n",
    "degrees_of_freedom = n1 + n2 - 2\n",
    "\n",
    "# t分布の有意水準0.05におけるt値（両側検定）\n",
    "critical_value = 2.262  # 有意水準0.05、自由度18の場合のt値\n",
    "\n",
    "# p値の計算\n",
    "p_value = 2 * (1 - stats.t.cdf(abs(t_statistic), df=degrees_of_freedom))\n",
    "\n",
    "# 結果を表示\n",
    "print(\"t統計量:\", t_statistic)\n",
    "print(\"p値:\", p_value)\n",
    "\n",
    "# 有意水準0.05での帰無仮説の検定\n",
    "if p_value < 0.05:\n",
    "    print(\"帰無仮説を棄却します。\")\n",
    "else:\n",
    "    print(\"帰無仮説は棄却されません。\")"
   ]
  },
  {
   "attachments": {},
   "cell_type": "markdown",
   "metadata": {},
   "source": [
    "#### Null Hypothesis / 帰無仮説\n",
    "\n",
    "帰無仮説は、実験や観察に基づいて行われた統計的なテストにおいて、検証される仮説の一つであり、通常、特定の効果や関連性が存在しないと仮定される仮説です。\n",
    "\n",
    "帰無仮説は \"H0\" と表記されることが一般的で、通常次のように記述されます：\n",
    "\n",
    "\"H0: パラメータ A は効果がない\" または \"H0: サンプル A とサンプル B は同じ母集団から抽出された\" など。\n",
    "\n",
    "帰無仮説は、統計的な検定の初期段階で設定され、実験結果またはデータの解析に基づいて検証されます。帰無仮説が否定されることを示す統計的な証拠が得られる場合、代替仮説が受け入れられ、効果や関連性が存在することが示唆されます。\n",
    "\n",
    "帰無仮説の否定は、通常、統計的な検定によって行われ、その結果は「p値」（p-value）として表現されます。p値が事前に設定された有意水準よりも小さい場合、帰無仮説が拒否され、代替仮説が支持されることが一般的です。有意水準は通常、0.05（5%）などの値で設定されますが、研究の文脈によって異なることがあります。\n"
   ]
  },
  {
   "cell_type": "code",
   "execution_count": 15,
   "metadata": {},
   "outputs": [
    {
     "name": "stdout",
     "output_type": "stream",
     "text": [
      "p値: 0.9155740088398183\n",
      "帰無仮説は棄却されません。\n"
     ]
    }
   ],
   "source": [
    "import scipy.stats as stats\n",
    "\n",
    "data = [15, 18, 20, 23, 25]\n",
    "\n",
    "null_hypothesis = \"H0: データの平均は20である\"\n",
    "\n",
    "# t検定を実行\n",
    "t_statistic, p_value = stats.ttest_1samp(data, 20)\n",
    "\n",
    "# p値を表示\n",
    "print(\"p値:\", p_value)\n",
    "\n",
    "# 帰無仮説の検証\n",
    "if p_value < 0.05:  # 有意水準を0.05と仮定\n",
    "    print(\"帰無仮説を棄却します。代替仮説が支持されます。\")\n",
    "else:\n",
    "    print(\"帰無仮説は棄却されません。\")"
   ]
  }
 ],
 "metadata": {
  "kernelspec": {
   "display_name": ".venv",
   "language": "python",
   "name": "python3"
  },
  "language_info": {
   "codemirror_mode": {
    "name": "ipython",
    "version": 3
   },
   "file_extension": ".py",
   "mimetype": "text/x-python",
   "name": "python",
   "nbconvert_exporter": "python",
   "pygments_lexer": "ipython3",
   "version": "3.9.7"
  },
  "orig_nbformat": 4
 },
 "nbformat": 4,
 "nbformat_minor": 2
}
