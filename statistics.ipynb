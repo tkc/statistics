{
 "cells": [
  {
   "attachments": {},
   "cell_type": "markdown",
   "metadata": {},
   "source": [
    "### median / 中央値"
   ]
  },
  {
   "cell_type": "code",
   "execution_count": 1,
   "metadata": {},
   "outputs": [
    {
     "name": "stdout",
     "output_type": "stream",
     "text": [
      "中央値: 5.0\n"
     ]
    }
   ],
   "source": [
    "def calculate_median(numbers):\n",
    "    # リストを昇順にソートします\n",
    "    sorted_numbers = sorted(numbers)\n",
    "    \n",
    "    # リストの長さを取得します\n",
    "    n = len(sorted_numbers)\n",
    "    \n",
    "    # リストの長さが奇数の場合\n",
    "    if n % 2 == 1:\n",
    "        # 中央の値を直接返します\n",
    "        median = sorted_numbers[n // 2]\n",
    "    else:\n",
    "        # リストの長さが偶数の場合、中央の2つの値の平均を計算します\n",
    "        middle1 = sorted_numbers[(n // 2) - 1]\n",
    "        middle2 = sorted_numbers[n // 2]\n",
    "        median = (middle1 + middle2) / 2\n",
    "    \n",
    "    return median\n",
    "\n",
    "# テスト用のリストを作成\n",
    "numbers = [5, 2, 9, 1, 5, 6]\n",
    "\n",
    "# 中央値を計算\n",
    "median = calculate_median(numbers)\n",
    "print(\"中央値:\", median)\n"
   ]
  },
  {
   "attachments": {},
   "cell_type": "markdown",
   "metadata": {},
   "source": [
    "### deviation / 標準偏差\n"
   ]
  },
  {
   "cell_type": "code",
   "execution_count": 82,
   "metadata": {},
   "outputs": [
    {
     "name": "stdout",
     "output_type": "stream",
     "text": [
      "[-19.400000000000006, -20.400000000000006, 35.599999999999994, -18.400000000000006, 22.599999999999994]\n"
     ]
    }
   ],
   "source": [
    "# リスト\n",
    "numbers = [49, 48, 104, 50, 91]\n",
    "\n",
    "# 平均値を計算\n",
    "mean = sum(numbers) / len(numbers)\n",
    "\n",
    "# 各要素から平均値を引いて偏差を計算\n",
    "deviations = [x - mean for x in numbers]\n",
    "\n",
    "print(deviations)\n"
   ]
  },
  {
   "attachments": {},
   "cell_type": "markdown",
   "metadata": {},
   "source": [
    "#### Standard Deviation / 標準偏差\n",
    "\n",
    "標準偏差（Standard Deviation）は、データの散らばりやばらつきを示す統計的な尺度です。標準偏差は、データポイントが平均値からどれだけ散らばっているかを示し、データのばらつきの程度を表します。標準偏差が大きいほど、データポイントは平均値から遠くに分布しており、標準偏差が小さいほど、データポイントは平均値に近い位置に集中しています。\n",
    "\n",
    "1. データセットの平均値（平均）を計算します。\n",
    "2. 各データポイントと平均値の差を計算します。\n",
    "3. 各差を二乗します（負の値を正に変換するため）。\n",
    "4. これらの二乗した差を平均化したものを計算します。\n",
    "5. 最後に、この平均化された値の平方根を取ります。\n",
    "\n",
    "数式で表すと以下のようになります：\n",
    "\n",
    "$$\n",
    "標準偏差（σ） = √(Σ(xi - μ)² / N)\n",
    "$$\n"
   ]
  },
  {
   "cell_type": "code",
   "execution_count": 83,
   "metadata": {},
   "outputs": [
    {
     "name": "stdout",
     "output_type": "stream",
     "text": [
      "標準偏差: 1.4142135623730951\n"
     ]
    }
   ],
   "source": [
    "import math\n",
    "\n",
    "# サンプルデータを作成\n",
    "data = [1, 2, 3, 4, 5]\n",
    "\n",
    "# 平均を計算\n",
    "mean = sum(data) / len(data)\n",
    "\n",
    "# 各データポイントから平均を引いて差の2乗を計算\n",
    "squared_diff = [(x - mean)**2 for x in data]\n",
    "\n",
    "# 2乗差の平均を計算して分散を求める\n",
    "variance = sum(squared_diff) / len(data)\n",
    "\n",
    "# 分散の平方根を取って標準偏差を計算\n",
    "std_deviation = math.sqrt(variance)\n",
    "\n",
    "# 結果を表示\n",
    "print(\"標準偏差:\", std_deviation)\n"
   ]
  },
  {
   "attachments": {},
   "cell_type": "markdown",
   "metadata": {},
   "source": [
    "### Coefficient of Variation / 変動係数\n",
    "\n",
    "変動係数（Coefficient of Variation、CV）は、統計学とデータ分析の文脈で使用される統計的な尺度です。変動係数は、データセット内の変動の程度を示すために利用され、異なるスケールや単位のデータセットの比較や、データの安定性を評価するのに役立ちます。\n",
    "\n",
    "変動係数は標準偏差を平均で割り、その結果を100倍してパーセントで表現します。したがって、変動係数はデータのばらつきを平均に対する相対的な尺度として示します。変動係数が大きい場合、データは平均からのばらつきが大きく、変動が大きいことを示し、逆に変動係数が小さい場合、データは平均に近く、変動が小さいことを示します。\n",
    "\n",
    "変動係数は通常、次のような場面で使用されます：\n",
    "\n",
    "1. 異なるデータセットの比較：異なるスケールや単位のデータセットを比較する際、変動係数を使用してばらつきを考慮に入れた比較ができます。変動係数を使用すると、ばらつきの大きさが明確になり、データセット間の相対的な安定性を評価できます。\n",
    "\n",
    "2. リスク評価：金融や投資の分野では、資産のリスクを評価する際に変動係数が役立ちます。リタイアメントファンドのリターンや株式の価格などのデータの変動を評価するのに利用されます。\n",
    "\n",
    "3. 品質管理：製造業や品質管理の分野では、製品の品質コントロールにおいて変動係数が品質の安定性を評価するのに使われます。たとえば、同じ製品の異なる製造ロットの品質を比較する場合などに役立ちます。\n"
   ]
  },
  {
   "cell_type": "code",
   "execution_count": 25,
   "metadata": {},
   "outputs": [
    {
     "name": "stdout",
     "output_type": "stream",
     "text": [
      "データセット: [25 30 35 40 45 50 55 60 65 70]\n",
      "平均: 47.5\n",
      "標準偏差: 15.138251770487457\n",
      "変動係数: 31.870003727342016\n"
     ]
    }
   ],
   "source": [
    "import numpy as np\n",
    "\n",
    "# サンプルのデータセットを作成\n",
    "data = np.array([25, 30, 35, 40, 45, 50, 55, 60, 65, 70])\n",
    "\n",
    "# 標準偏差を計算\n",
    "std_deviation = np.std(data, ddof=1)  # ddof=1は不偏標準偏差を計算するためのオプション\n",
    "\n",
    "# 平均を計算\n",
    "mean = np.mean(data)\n",
    "\n",
    "# 変動係数を計算（標準偏差を平均で割り、100倍する）\n",
    "coefficient_of_variation = (std_deviation / mean) * 100\n",
    "\n",
    "print(\"データセット:\", data)\n",
    "print(\"平均:\", mean)\n",
    "print(\"標準偏差:\", std_deviation)\n",
    "print(\"変動係数:\", coefficient_of_variation)"
   ]
  },
  {
   "attachments": {},
   "cell_type": "markdown",
   "metadata": {},
   "source": [
    "### Variance / 分散\n",
    "\n",
    "統計学や確率論において、データセット内の値が平均からどれだけばらついているかを示す尺度です。分散はデータのばらつき度を測定するために使用され、データの散らばり具合を表現します。分散が大きいほどデータが平均から離れて広がっており、分散が小さいほどデータが平均に近いことを示します\n",
    "\n",
    "$$\n",
    "\\text{分散} (\\sigma^2) = \\frac{1}{N} \\sum_{i=1}^{N} (x_i - \\mu)^2 \n",
    "$$\n"
   ]
  },
  {
   "cell_type": "code",
   "execution_count": 84,
   "metadata": {},
   "outputs": [
    {
     "name": "stdout",
     "output_type": "stream",
     "text": [
      "20.2\n",
      "[27.039999999999992, 4.839999999999997, 0.039999999999999716, 7.840000000000004, 23.040000000000006]\n",
      "分散: 12.559999999999999\n"
     ]
    }
   ],
   "source": [
    "# データセット\n",
    "data = [15, 18, 20, 23, 25]\n",
    "\n",
    "# 平均の計算\n",
    "mean = sum(data) / len(data)\n",
    "print(mean)\n",
    "\n",
    "# 各データポイントと平均の差の二乗を計算し、合計する\n",
    "squared_differences = [(x - mean) ** 2 for x in data]\n",
    "print(squared_differences)\n",
    "\n",
    "# 分散の計算\n",
    "variance = sum(squared_differences) / len(data)\n",
    "\n",
    "# 結果を表示\n",
    "print(\"分散:\", variance)\n"
   ]
  },
  {
   "attachments": {},
   "cell_type": "markdown",
   "metadata": {},
   "source": [
    "### Frequency / 度数\n",
    "\n",
    "「度数（Frequency）」は、データセット内の特定の値または範囲が出現する回数を表す統計的な尺度です。度数は、データセット内の異なるカテゴリや値の分布を理解し、要約するのに役立ちます。度数分布表は、度数を示す表であり、特定の値または範囲の頻度を示します。\n"
   ]
  },
  {
   "cell_type": "code",
   "execution_count": 85,
   "metadata": {},
   "outputs": [
    {
     "name": "stdout",
     "output_type": "stream",
     "text": [
      "値   |   度数\n",
      "-------------\n",
      "3    |   3\n",
      "2    |   3\n",
      "1    |   2\n",
      "4    |   1\n",
      "5    |   1\n"
     ]
    }
   ],
   "source": [
    "# サンプルデータ\n",
    "data = [3, 2, 1, 2, 3, 4, 1, 5, 3, 2]\n",
    "\n",
    "# データの度数を計算\n",
    "frequency_dict = {}  # 値をキーとし、度数を値とする辞書を初期化\n",
    "\n",
    "for value in data:\n",
    "    if value in frequency_dict:\n",
    "        frequency_dict[value] += 1\n",
    "    else:\n",
    "        frequency_dict[value] = 1\n",
    "\n",
    "# 度数分布表の表示\n",
    "print(\"値   |   度数\")\n",
    "print(\"-------------\")\n",
    "for value, frequency in frequency_dict.items():\n",
    "    print(f\"{value}    |   {frequency}\")\n",
    "    "
   ]
  },
  {
   "attachments": {},
   "cell_type": "markdown",
   "metadata": {},
   "source": [
    "### sample mean / 標本平均\n",
    "\n",
    "標本平均とは、母集団から抽出した一部の集団（標本）の平均値のことです。 標本平均を利用すれば、標本の代表値や標準偏差、分散を求めることができます。"
   ]
  },
  {
   "cell_type": "code",
   "execution_count": 2,
   "metadata": {},
   "outputs": [
    {
     "name": "stdout",
     "output_type": "stream",
     "text": [
      "標本平均: 30.0\n"
     ]
    }
   ],
   "source": [
    "data = [10, 20, 30, 40, 50]\n",
    "\n",
    "# 標本平均を計算\n",
    "sample_mean = sum(data) / len(data)\n",
    "\n",
    "print(\"標本平均:\", sample_mean)"
   ]
  },
  {
   "attachments": {},
   "cell_type": "markdown",
   "metadata": {},
   "source": [
    "### Confidence Interval / 平均区間\n",
    "\n",
    "信頼度95%の平均区間（Confidence Interval at 95% Confidence Level）は、統計学において、標本データから計算される平均値の推定に対する信頼性を示すものです。この区間は、標本平均を中心にして、真の母集団平均が含まれる可能性を示すもので、通常、下限と上限の2つの値で表されます。\n",
    "\n",
    "信頼度95%の平均区間を計算する際には、標本平均、標準誤差（または標準偏差）、サンプルサイズなどの情報が必要です。一般的な方法の一つは、Zスコアを用いて計算することです。Zスコアは、正規分布の標準正規分布表を使用して、信頼度に応じたZ値を求めることができます。"
   ]
  },
  {
   "cell_type": "code",
   "execution_count": 3,
   "metadata": {},
   "outputs": [
    {
     "name": "stdout",
     "output_type": "stream",
     "text": [
      "信頼度95%の平均区間: (45.183784192612194, 64.8162158073878)\n"
     ]
    }
   ],
   "source": [
    "import scipy.stats as stats\n",
    "\n",
    "# サンプルデータ、標本平均、標準誤差、サンプルサイズを用意する\n",
    "data = [45, 50, 55, 60, 65]\n",
    "sample_mean = sum(data) / len(data)\n",
    "std_deviation = stats.sem(data)  # 標準誤差\n",
    "sample_size = len(data)\n",
    "\n",
    "# 信頼度95%の平均区間を計算\n",
    "confidence_interval = stats.t.interval(0.95, df=sample_size-1, loc=sample_mean, scale=std_deviation)\n",
    "\n",
    "print(\"信頼度95%の平均区間:\", confidence_interval)"
   ]
  },
  {
   "attachments": {},
   "cell_type": "markdown",
   "metadata": {},
   "source": [
    "Zスコア（Z-score）は、統計学で使用される標準化されたスコアです。Zスコアは、あるデータポイントが平均からどれだけ標準偏差の単位数（標準偏差の何倍）だけ離れているかを示す指標です。Zスコアを計算することにより、異なるデータセットを比較したり、正規分布に基づいた統計的な推論を行ったりする際に便利です。\n",
    "\n",
    "Zスコアの計算式は以下の通りです：\n",
    "\n",
    "\\[Z = \\frac{X - \\mu}{\\sigma}\\]\n",
    "\n",
    "ここで、各変数の意味は次のとおりです：\n",
    "\n",
    "- \\(Z\\)：Zスコア\n",
    "- \\(X\\)：特定のデータポイントの値\n",
    "- \\(\\mu\\)：母集団の平均\n",
    "- \\(\\sigma\\)：母集団の標準偏差\n",
    "\n",
    "Zスコアを計算することにより、データポイントが平均からどれだけ離れているか、または標準偏差の何倍離れているかを数値化することができます。正規分布の場合、Zスコアを用いると、特定の値が分布内でどの位置にあるかを理解し、統計的な推論や比較を行うのに役立ちます。\n",
    "\n",
    "Zスコアは、標準化されたデータを比較する、外れ値を検出する、統計的な仮説検定を行うなど、さまざまな統計的なタスクに使用されます。また、Zスコアは正規分布以外の分布にも拡張できることがありますが、その場合は分布のパラメータを考慮に入れる必要があります。"
   ]
  },
  {
   "cell_type": "code",
   "execution_count": 13,
   "metadata": {},
   "outputs": [
    {
     "name": "stdout",
     "output_type": "stream",
     "text": [
      "Zスコア: 1.4\n"
     ]
    }
   ],
   "source": [
    "X = 77  # データポイントの値\n",
    "mu = 70  # 母集団の平均\n",
    "sigma = 5  # 母集団の標準偏差\n",
    "\n",
    "# Zスコアを計算\n",
    "z_score = (X - mu) / sigma\n",
    "\n",
    "# 結果を表示\n",
    "print(\"Zスコア:\", z_score)"
   ]
  },
  {
   "attachments": {},
   "cell_type": "markdown",
   "metadata": {},
   "source": [
    "#### t-test / t検定\n",
    "\n",
    "統計学において2つのグループ（サンプル）の平均値が統計的に有意に異なるかどうかを判定するための仮説検定手法の一つです。具体的には、2つのサンプルの平均値と分散を比較して、差異が統計的に有意かどうかを評価します。t検定は、2つの独立したサンプルを比較する「独立2群t検定」と、同じサンプルの前後で平均値の変化を検定する「対応2群t検定」の2つの主要なバリエーションがあります。"
   ]
  },
  {
   "cell_type": "code",
   "execution_count": 79,
   "metadata": {},
   "outputs": [
    {
     "name": "stdout",
     "output_type": "stream",
     "text": [
      "t統計量: 2.3124139952957594\n",
      "p値: 0.04950218962719467\n"
     ]
    }
   ],
   "source": [
    "import scipy.stats as stats\n",
    "\n",
    "sample1 = [72, 75, 78, 80, 82]  # サンプル1\n",
    "sample2 = [65, 68, 71, 74, 77]  # サンプル2\n",
    "\n",
    "# t検定を実行\n",
    "t_statistic, p_value = stats.ttest_ind(sample1, sample2)\n",
    "\n",
    "# 結果を表示\n",
    "print(\"t統計量:\", t_statistic)\n",
    "print(\"p値:\", p_value)\n"
   ]
  },
  {
   "cell_type": "code",
   "execution_count": 80,
   "metadata": {},
   "outputs": [
    {
     "name": "stdout",
     "output_type": "stream",
     "text": [
      "t統計量: -0.3162277660168381\n",
      "p値: 0.767643915238903\n"
     ]
    }
   ],
   "source": [
    "sample1 = [1,2,3]  # サンプル1\n",
    "sample2 = [1,2,4]  # サンプル2\n",
    "\n",
    "# t検定を実行\n",
    "t_statistic, p_value = stats.ttest_ind(sample1, sample2)\n",
    "\n",
    "# 結果を表示\n",
    "print(\"t統計量:\", t_statistic)\n",
    "print(\"p値:\", p_value)"
   ]
  },
  {
   "cell_type": "code",
   "execution_count": 81,
   "metadata": {},
   "outputs": [
    {
     "name": "stdout",
     "output_type": "stream",
     "text": [
      "t統計量: 2.3124139952957594\n",
      "p値: 0.04950218962719455\n",
      "帰無仮説を棄却します。\n"
     ]
    }
   ],
   "source": [
    "sample1 = [72, 75, 78, 80, 82]  # サンプル1\n",
    "sample2 = [65, 68, 71, 74, 77]  # サンプル2\n",
    "\n",
    "# サンプルの平均値\n",
    "mean1 = sum(sample1) / len(sample1)\n",
    "mean2 = sum(sample2) / len(sample2)\n",
    "\n",
    "# サンプルの分散\n",
    "variance1 = sum((x - mean1) ** 2 for x in sample1) / (len(sample1) - 1)\n",
    "variance2 = sum((x - mean2) ** 2 for x in sample2) / (len(sample2) - 1)\n",
    "\n",
    "# t統計量の計算\n",
    "n1 = len(sample1)\n",
    "n2 = len(sample2)\n",
    "\n",
    "t_statistic = (mean1 - mean2) / ((variance1 / n1 + variance2 / n2) ** 0.5)\n",
    "\n",
    "# 自由度\n",
    "degrees_of_freedom = n1 + n2 - 2\n",
    "\n",
    "# t分布の有意水準0.05におけるt値（両側検定）\n",
    "critical_value = 2.262  # 有意水準0.05、自由度18の場合のt値\n",
    "\n",
    "# p値の計算\n",
    "p_value = 2 * (1 - stats.t.cdf(abs(t_statistic), df=degrees_of_freedom))\n",
    "\n",
    "# 結果を表示\n",
    "print(\"t統計量:\", t_statistic)\n",
    "print(\"p値:\", p_value)\n",
    "\n",
    "# 有意水準0.05での帰無仮説の検定\n",
    "if p_value < 0.05:\n",
    "    print(\"帰無仮説を棄却します。\")\n",
    "else:\n",
    "    print(\"帰無仮説は棄却されません。\")\n",
    "\n"
   ]
  },
  {
   "attachments": {},
   "cell_type": "markdown",
   "metadata": {},
   "source": [
    "#### Null Hypothesis / 帰無仮説\n",
    "\n",
    "帰無仮説は、実験や観察に基づいて行われた統計的なテストにおいて、検証される仮説の一つであり、通常、特定の効果や関連性が存在しないと仮定される仮説です。\n",
    "\n",
    "帰無仮説は \"H0\" と表記されることが一般的で、通常次のように記述されます：\n",
    "\n",
    "\"H0: パラメータ A は効果がない\" または \"H0: サンプル A とサンプル B は同じ母集団から抽出された\" など。\n",
    "\n",
    "帰無仮説は、統計的な検定の初期段階で設定され、実験結果またはデータの解析に基づいて検証されます。帰無仮説が否定されることを示す統計的な証拠が得られる場合、代替仮説が受け入れられ、効果や関連性が存在することが示唆されます。\n",
    "\n",
    "帰無仮説の否定は、通常、統計的な検定によって行われ、その結果は「p値」（p-value）として表現されます。p値が事前に設定された有意水準よりも小さい場合、帰無仮説が拒否され、代替仮説が支持されることが一般的です。有意水準は通常、0.05（5%）などの値で設定されますが、研究の文脈によって異なることがあります。\n"
   ]
  },
  {
   "cell_type": "code",
   "execution_count": 15,
   "metadata": {},
   "outputs": [
    {
     "name": "stdout",
     "output_type": "stream",
     "text": [
      "p値: 0.9155740088398183\n",
      "帰無仮説は棄却されません。\n"
     ]
    }
   ],
   "source": [
    "import scipy.stats as stats\n",
    "\n",
    "data = [15, 18, 20, 23, 25]\n",
    "\n",
    "null_hypothesis = \"H0: データの平均は20である\"\n",
    "\n",
    "# t検定を実行\n",
    "t_statistic, p_value = stats.ttest_1samp(data, 20)\n",
    "\n",
    "# p値を表示\n",
    "print(\"p値:\", p_value)\n",
    "\n",
    "# 帰無仮説の検証\n",
    "if p_value < 0.05:  # 有意水準を0.05と仮定\n",
    "    print(\"帰無仮説を棄却します。代替仮説が支持されます。\")\n",
    "else:\n",
    "    print(\"帰無仮説は棄却されません。\")"
   ]
  },
  {
   "attachments": {},
   "cell_type": "markdown",
   "metadata": {},
   "source": [
    "### Standardization / 標準化\n",
    "\n",
    "標準化（Standardization）は、統計学やデータ分析で使用される一般的なデータ前処理手法の一つで、データを平均が0で標準偏差が1になるように変換することを指します。標準化は、異なる尺度や単位を持つデータを比較する場合や、多変量解析を行う際に役立ちます。"
   ]
  },
  {
   "attachments": {},
   "cell_type": "markdown",
   "metadata": {},
   "source": [
    "Z-score Standardization\n",
    "\n",
    ". **Zスコア標準化（Z-score Standardization）**:\n",
    "   - データから平均値を引き、標準偏差で割ります。\n",
    "   - Zスコア（Z-score）は次の式で計算されます：\n",
    "   $$ \\Z = \\frac{X - \\mu}{\\sigma} \\$$"
   ]
  },
  {
   "cell_type": "code",
   "execution_count": 38,
   "metadata": {},
   "outputs": [
    {
     "name": "stdout",
     "output_type": "stream",
     "text": [
      "標準化後のデータ: [-1.46726488 -0.62076591 -0.05643326  0.79006571  1.35439836]\n"
     ]
    }
   ],
   "source": [
    "import numpy as np\n",
    "\n",
    "# サンプルデータ（例）\n",
    "data = np.array([15, 18, 20, 23, 25])\n",
    "\n",
    "# 平均と標準偏差の計算\n",
    "mean = np.mean(data)\n",
    "std_dev = np.std(data)\n",
    "\n",
    "# Zスコア標準化の計算\n",
    "standardized_data = (data - mean) / std_dev\n",
    "\n",
    "# 結果を表示\n",
    "print(\"標準化後のデータ:\", standardized_data)\n"
   ]
  },
  {
   "attachments": {},
   "cell_type": "markdown",
   "metadata": {},
   "source": [
    "#### Min-Max Scaling / 最小-最大スケーリング\n",
    "\n",
    "データを指定した範囲内に縮尺変換する方法です。この方法を使用すると、データの値を新しい範囲に変換し、一般的に0から1の範囲に収めます。"
   ]
  },
  {
   "cell_type": "code",
   "execution_count": 50,
   "metadata": {},
   "outputs": [
    {
     "name": "stdout",
     "output_type": "stream",
     "text": [
      "[0.   0.25 0.5  0.75 1.  ]\n"
     ]
    }
   ],
   "source": [
    "import numpy as np\n",
    "\n",
    "# サンプルデータを作成\n",
    "data = np.array([1.0, 2.0, 3.0, 4.0, 5.0])\n",
    "\n",
    "# 最小値と最大値を計算\n",
    "min_val = np.min(data)\n",
    "max_val = np.max(data)\n",
    "\n",
    "# 最小-最大スケーリングを適用\n",
    "scaled_data = (data - min_val) / (max_val - min_val)\n",
    "\n",
    "print(scaled_data)"
   ]
  },
  {
   "attachments": {},
   "cell_type": "markdown",
   "metadata": {},
   "source": [
    "#### Robust Scaling / ロバストスケーリン\n",
    "\n",
    "外れ値に対して頑健なアプローチを提供します。ロバストスケーリングは、最小-最大スケーリング（Min-Max Scaling）やZスコア標準化（Standardization）とは異なり、外れ値の影響を最小限に抑えることができます。"
   ]
  },
  {
   "cell_type": "code",
   "execution_count": 75,
   "metadata": {},
   "outputs": [
    {
     "name": "stdout",
     "output_type": "stream",
     "text": [
      "p1 : 2.0\n",
      "p3 : 4.0\n",
      "[-0.5  0.   0.5  1.  49. ]\n"
     ]
    }
   ],
   "source": [
    "import numpy as np\n",
    "\n",
    "# サンプルデータを作成（外れ値を含む）\n",
    "data = np.array([1.0, 2.0, 3.0, 4.0, 100.0])\n",
    "\n",
    "# 第1四分位数（25パーセンタイル）と第3四分位数（75パーセンタイル）を計算\n",
    "q1 = np.percentile(data, 25)\n",
    "print(f\"p1 : {q1}\")\n",
    "\n",
    "q3 = np.percentile(data, 75)\n",
    "print(f\"p3 : {q3}\")\n",
    "\n",
    "# ロバストスケーリングを適用\n",
    "scaled_data = (data - q1) / (q3 - q1)\n",
    "\n",
    "print(scaled_data)"
   ]
  },
  {
   "cell_type": "code",
   "execution_count": 49,
   "metadata": {},
   "outputs": [
    {
     "name": "stdout",
     "output_type": "stream",
     "text": [
      "ABB\n"
     ]
    }
   ],
   "source": [
    "from collections import Counter\n",
    "\n",
    "data = {\n",
    "    '0': ['A', 'B', 'C'],\n",
    "    '1': ['A', 'C', 'B'],\n",
    "    '2': ['C', 'A', 'B']\n",
    "}\n",
    "\n",
    "# 各列の最頻値を求める\n",
    "most_common_values = [Counter(col).most_common(1)[0][0] for col in zip(*data.values())]\n",
    "\n",
    "# 一つの行にまとめる\n",
    "result = ''.join(most_common_values)\n",
    "\n",
    "print(result)"
   ]
  },
  {
   "attachments": {},
   "cell_type": "markdown",
   "metadata": {},
   "source": [
    "### Euclidean Distance / ユークリッド距離\n",
    "\n",
    "通常のユークリッド空間（直交座標系）において、2つの点間の距離を計算するための距離尺度です。ユークリッド距離は、座標平面や3次元空間など、多くの物理的な空間で使用されます。\n"
   ]
  },
  {
   "cell_type": "code",
   "execution_count": 5,
   "metadata": {},
   "outputs": [
    {
     "name": "stdout",
     "output_type": "stream",
     "text": [
      "ユークリッド距離: 5.0\n"
     ]
    }
   ],
   "source": [
    "def euclidean_distance(point1, point2):\n",
    "    # point1とpoint2は2つの点の座標を表すリストまたはタプルと仮定します。\n",
    "    if len(point1) != len(point2):\n",
    "        raise ValueError(\"点の次元が一致しません\")\n",
    " \n",
    "    # 各次元ごとの差を計算し、2乗して合計する\n",
    "    squared_sum = sum((x1 - x2) ** 2 for x1, x2 in zip(point1, point2))\n",
    "    \n",
    "    # 合計の平方根を計算してユークリッド距離を求める\n",
    "    distance = squared_sum ** 0.5\n",
    "    \n",
    "    return distance\n",
    "\n",
    "# 例\n",
    "point_a = (1, 2)\n",
    "point_b = (4, 6)\n",
    "\n",
    "distance = euclidean_distance(point_a, point_b)\n",
    "\n",
    "print(\"ユークリッド距離:\", distance)\n"
   ]
  },
  {
   "attachments": {},
   "cell_type": "markdown",
   "metadata": {},
   "source": [
    "### Squared Euclidean Distance / 平方ユークリッド距離\n",
    "\n",
    "ユークリッド距離の2乗を表す距離尺度です。ユークリッド距離は、通常のユークリッド空間での2点間の距離を計算するために使用されますが、平方ユークリッド距離はその計算結果を2乗したものです。\n",
    "\n",
    "ここで、(x_1, y_1)と(x_2, y_2)は2つの点の座標です。この式は、2つの点間の各次元（この場合はx座標とy座標）の差を計算し、それらの差を2乗して合計します。この合計が平方ユークリッド距離の値となります。\n",
    "\n",
    "平方ユークリッド距離は、ユークリッド距離と比べて計算が速く、特に距離の比較やクラスタリングなどのタスクで使用されることがあります。しかし、平方ユークリッド距離を使用する場合、距離の次元のスケールが重要であり、異なる次元のスケールが違う場合、距離の評価に偏りが生じる可能性があるため、注意が必要です。"
   ]
  },
  {
   "cell_type": "code",
   "execution_count": 92,
   "metadata": {},
   "outputs": [
    {
     "name": "stdout",
     "output_type": "stream",
     "text": [
      "平方ユークリッド距離: 25\n"
     ]
    }
   ],
   "source": [
    "def squared_euclidean_distance(point1, point2):\n",
    "    # point1とpoint2は2つの点の座標を表すリストまたはタプルと仮定します。\n",
    "    if len(point1) != len(point2):\n",
    "        raise ValueError(\"点の次元が一致しません\")\n",
    "    \n",
    "    # 各次元ごとの差を計算し、2乗して合計する\n",
    "    squared_sum = sum((x1 - x2) ** 2 for x1, x2 in zip(point1, point2))\n",
    "    \n",
    "    return squared_sum\n",
    "\n",
    "# 例\n",
    "point_a = (1, 2)\n",
    "point_b = (4, 6)\n",
    "\n",
    "distance = squared_euclidean_distance(point_a, point_b)\n",
    "print(\"平方ユークリッド距離:\", distance)"
   ]
  },
  {
   "attachments": {},
   "cell_type": "markdown",
   "metadata": {},
   "source": [
    "### Lorenz curve / ローレンツ曲線\n",
    "\n",
    "所得や富の不平等を視覚化するために利用されます。この曲線は、特定の集団や国の所得や富がどの程度不平等であるかを示すのに役立ちます。\n",
    "\n",
    "不平等が高い場合、ローレンツ曲線は45度の直線から大きく外れ、曲線の下側の領域が大きくなります。不平等が低い場合、曲線は45度の直線に近くなり、富や所得の分布がより均等であることを示します。\n",
    "\n",
    "ローレンツ曲線を使用することで、不平等の程度を視覚的に理解し、政策決定や経済分析に役立てることができます。また、不平等を評価するための指標であるジニ係数（Gini coefficient）を計算する際にも使用されます。ジニ係数は、ローレンツ曲線から導かれ、0から1の値を取り、0に近いほど均等、1に近いほど不平等を示します。"
   ]
  },
  {
   "cell_type": "code",
   "execution_count": 24,
   "metadata": {},
   "outputs": [
    {
     "name": "stdout",
     "output_type": "stream",
     "text": [
      "[0.42631253 0.54057587 0.6921221  0.74308027 0.81411233]\n",
      "[0.42631253 0.9668884  1.65901049 2.40209077 3.2162031 ]\n",
      "[0.13255149 0.30063039 0.5158289  0.7468716  1.        ]\n",
      "[0.   0.25 0.5  0.75 1.  ]\n"
     ]
    },
    {
     "data": {
      "image/png": "[encoded data removed]",
      "text/plain": [
       "<Figure size 576x432 with 1 Axes>"
      ]
     },
     "metadata": {
      "needs_background": "light"
     },
     "output_type": "display_data"
    }
   ],
   "source": [
    "import numpy as np\n",
    "import matplotlib.pyplot as plt\n",
    "\n",
    "# サンプルの所得データを生成（ランダムな例）\n",
    "# ここでは0から1の範囲のランダムなデータを生成しています。\n",
    "income_data = np.random.rand(5)\n",
    "\n",
    "# 所得データを昇順にソート\n",
    "income_data.sort()\n",
    "print(income_data)\n",
    "\n",
    "# ローレンツ曲線のデータを計算\n",
    "cumulative_income = np.cumsum(income_data) / np.sum(income_data)\n",
    "print(np.cumsum(income_data))\n",
    "print(cumulative_income)\n",
    "\n",
    "# 対角線（均等分布）を表すデータ\n",
    "perfect_equality = np.linspace(0, 1, len(cumulative_income))\n",
    "print(perfect_equality)\n",
    "\n",
    "# ローレンツ曲線をプロット\n",
    "plt.figure(figsize=(8, 6))\n",
    "plt.plot(np.linspace(0, 1, len(cumulative_income)), cumulative_income, label='Lorenz Curve', linewidth=2)\n",
    "plt.plot(np.linspace(0, 1, len(cumulative_income)), perfect_equality, linestyle='--', color='gray', label='Perfect Equality')\n",
    "plt.fill_between(np.linspace(0, 1, len(cumulative_income)), cumulative_income, perfect_equality, alpha=0.2)\n",
    "\n",
    "plt.xlabel('Cumulative Population (%)')\n",
    "plt.ylabel('Cumulative Income (%)')\n",
    "plt.title('Lorenz Curve')\n",
    "plt.legend()\n",
    "plt.grid(True)\n",
    "plt.show()\n"
   ]
  }
 ],
 "metadata": {
  "kernelspec": {
   "display_name": ".venv",
   "language": "python",
   "name": "python3"
  },
  "language_info": {
   "codemirror_mode": {
    "name": "ipython",
    "version": 3
   },
   "file_extension": ".py",
   "mimetype": "text/x-python",
   "name": "python",
   "nbconvert_exporter": "python",
   "pygments_lexer": "ipython3",
   "version": "3.9.7"
  },
  "orig_nbformat": 4
 },
 "nbformat": 4,
 "nbformat_minor": 2
}
