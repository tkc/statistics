{
 "cells": [
  {
   "attachments": {},
   "cell_type": "markdown",
   "metadata": {},
   "source": [
    "### deviation / 標準偏差"
   ]
  },
  {
   "cell_type": "code",
   "execution_count": 3,
   "metadata": {},
   "outputs": [
    {
     "name": "stdout",
     "output_type": "stream",
     "text": [
      "[-19.400000000000006, -20.400000000000006, 35.599999999999994, -18.400000000000006, 22.599999999999994]\n"
     ]
    }
   ],
   "source": [
    "# リスト\n",
    "numbers = [49, 48, 104, 50, 91]\n",
    "\n",
    "# 平均値を計算\n",
    "mean = sum(numbers) / len(numbers)\n",
    "\n",
    "# 各要素から平均値を引いて偏差を計算\n",
    "deviations = [x - mean for x in numbers]\n",
    "\n",
    "print(deviations)\n"
   ]
  },
  {
   "attachments": {},
   "cell_type": "markdown",
   "metadata": {},
   "source": [
    "### sample mean/標本平均\n",
    "\n",
    "標本平均とは、母集団から抽出した一部の集団（標本）の平均値のことです。 標本平均を利用すれば、標本の代表値や標準偏差、分散を求めることができます。"
   ]
  },
  {
   "cell_type": "code",
   "execution_count": 1,
   "metadata": {},
   "outputs": [
    {
     "name": "stdout",
     "output_type": "stream",
     "text": [
      "標本平均: 30.0\n"
     ]
    }
   ],
   "source": [
    "data = [10, 20, 30, 40, 50]\n",
    "\n",
    "# 標本平均を計算\n",
    "sample_mean = sum(data) / len(data)\n",
    "\n",
    "print(\"標本平均:\", sample_mean)"
   ]
  },
  {
   "attachments": {},
   "cell_type": "markdown",
   "metadata": {},
   "source": [
    "### Confidence Interval / 平均区間\n",
    "\n",
    "信頼度95%の平均区間（Confidence Interval at 95% Confidence Level）は、統計学において、標本データから計算される平均値の推定に対する信頼性を示すものです。この区間は、標本平均を中心にして、真の母集団平均が含まれる可能性を示すもので、通常、下限と上限の2つの値で表されます。\n",
    "\n",
    "信頼度95%の平均区間を計算する際には、標本平均、標準誤差（または標準偏差）、サンプルサイズなどの情報が必要です。一般的な方法の一つは、Zスコアを用いて計算することです。Zスコアは、正規分布の標準正規分布表を使用して、信頼度に応じたZ値を求めることができます。"
   ]
  },
  {
   "cell_type": "code",
   "execution_count": 3,
   "metadata": {},
   "outputs": [
    {
     "name": "stdout",
     "output_type": "stream",
     "text": [
      "信頼度95%の平均区間: (45.183784192612194, 64.8162158073878)\n"
     ]
    }
   ],
   "source": [
    "import scipy.stats as stats\n",
    "\n",
    "# サンプルデータ、標本平均、標準誤差、サンプルサイズを用意する\n",
    "data = [45, 50, 55, 60, 65]\n",
    "sample_mean = sum(data) / len(data)\n",
    "std_deviation = stats.sem(data)  # 標準誤差\n",
    "sample_size = len(data)\n",
    "\n",
    "# 信頼度95%の平均区間を計算\n",
    "confidence_interval = stats.t.interval(0.95, df=sample_size-1, loc=sample_mean, scale=std_deviation)\n",
    "\n",
    "print(\"信頼度95%の平均区間:\", confidence_interval)"
   ]
  },
  {
   "attachments": {},
   "cell_type": "markdown",
   "metadata": {},
   "source": [
    "Zスコア（Z-score）は、統計学で使用される標準化されたスコアです。Zスコアは、あるデータポイントが平均からどれだけ標準偏差の単位数（標準偏差の何倍）だけ離れているかを示す指標です。Zスコアを計算することにより、異なるデータセットを比較したり、正規分布に基づいた統計的な推論を行ったりする際に便利です。\n",
    "\n",
    "Zスコアの計算式は以下の通りです：\n",
    "\n",
    "\\[Z = \\frac{X - \\mu}{\\sigma}\\]\n",
    "\n",
    "ここで、各変数の意味は次のとおりです：\n",
    "\n",
    "- \\(Z\\)：Zスコア\n",
    "- \\(X\\)：特定のデータポイントの値\n",
    "- \\(\\mu\\)：母集団の平均\n",
    "- \\(\\sigma\\)：母集団の標準偏差\n",
    "\n",
    "Zスコアを計算することにより、データポイントが平均からどれだけ離れているか、または標準偏差の何倍離れているかを数値化することができます。正規分布の場合、Zスコアを用いると、特定の値が分布内でどの位置にあるかを理解し、統計的な推論や比較を行うのに役立ちます。\n",
    "\n",
    "Zスコアは、標準化されたデータを比較する、外れ値を検出する、統計的な仮説検定を行うなど、さまざまな統計的なタスクに使用されます。また、Zスコアは正規分布以外の分布にも拡張できることがありますが、その場合は分布のパラメータを考慮に入れる必要があります。"
   ]
  },
  {
   "cell_type": "code",
   "execution_count": 7,
   "metadata": {},
   "outputs": [
    {
     "name": "stdout",
     "output_type": "stream",
     "text": [
      "Zスコア: 2.0\n"
     ]
    }
   ],
   "source": [
    "X = 80  # データポイントの値\n",
    "mu = 70  # 母集団の平均\n",
    "sigma = 5  # 母集団の標準偏差\n",
    "\n",
    "# Zスコアを計算\n",
    "z_score = (X - mu) / sigma\n",
    "\n",
    "# 結果を表示\n",
    "print(\"Zスコア:\", z_score)"
   ]
  }
 ],
 "metadata": {
  "kernelspec": {
   "display_name": ".venv",
   "language": "python",
   "name": "python3"
  },
  "language_info": {
   "codemirror_mode": {
    "name": "ipython",
    "version": 3
   },
   "file_extension": ".py",
   "mimetype": "text/x-python",
   "name": "python",
   "nbconvert_exporter": "python",
   "pygments_lexer": "ipython3",
   "version": "3.9.7"
  },
  "orig_nbformat": 4
 },
 "nbformat": 4,
 "nbformat_minor": 2
}
