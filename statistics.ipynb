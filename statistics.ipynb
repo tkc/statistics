{
 "cells": [
  {
   "attachments": {},
   "cell_type": "markdown",
   "metadata": {},
   "source": [
    "deviation / 標準偏差"
   ]
  },
  {
   "cell_type": "code",
   "execution_count": 3,
   "metadata": {},
   "outputs": [
    {
     "name": "stdout",
     "output_type": "stream",
     "text": [
      "[-19.400000000000006, -20.400000000000006, 35.599999999999994, -18.400000000000006, 22.599999999999994]\n"
     ]
    }
   ],
   "source": [
    "# リスト\n",
    "numbers = [49, 48, 104, 50, 91]\n",
    "\n",
    "# 平均値を計算\n",
    "mean = sum(numbers) / len(numbers)\n",
    "\n",
    "# 各要素から平均値を引いて偏差を計算\n",
    "deviations = [x - mean for x in numbers]\n",
    "\n",
    "print(deviations)\n"
   ]
  }
 ],
 "metadata": {
  "kernelspec": {
   "display_name": ".venv",
   "language": "python",
   "name": "python3"
  },
  "language_info": {
   "codemirror_mode": {
    "name": "ipython",
    "version": 3
   },
   "file_extension": ".py",
   "mimetype": "text/x-python",
   "name": "python",
   "nbconvert_exporter": "python",
   "pygments_lexer": "ipython3",
   "version": "3.9.7"
  },
  "orig_nbformat": 4
 },
 "nbformat": 4,
 "nbformat_minor": 2
}
